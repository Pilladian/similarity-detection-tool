{
 "cells": [
  {
   "cell_type": "markdown",
   "id": "enhanced-infrared",
   "metadata": {},
   "source": [
    "# Evaluation of Website Comparison Tool"
   ]
  },
  {
   "cell_type": "markdown",
   "id": "thirty-intro",
   "metadata": {},
   "source": [
    "### Imports"
   ]
  },
  {
   "cell_type": "code",
   "execution_count": 1,
   "id": "satellite-member",
   "metadata": {},
   "outputs": [],
   "source": [
    "import Comparer\n",
    "import Helper\n",
    "import os"
   ]
  },
  {
   "cell_type": "code",
   "execution_count": 2,
   "id": "black-thumb",
   "metadata": {},
   "outputs": [],
   "source": [
    "_DIR = 'eval_resutls'"
   ]
  },
  {
   "cell_type": "markdown",
   "id": "flying-india",
   "metadata": {},
   "source": [
    "#### Websites"
   ]
  },
  {
   "cell_type": "code",
   "execution_count": 3,
   "id": "developing-commission",
   "metadata": {},
   "outputs": [],
   "source": [
    "# different domains\n",
    "sim0 = ['https://www.google.com',\n",
    "        'https://cms.cispa.saarland',\n",
    "        'https://www.uni-saarland.de/start.html',\n",
    "        'https://github.com',\n",
    "        'https://amazon.com',\n",
    "        'https://twitter.com'\n",
    "       ]\n",
    "\n",
    "# same domain\n",
    "sim1 = ['https://cispa.de/de',\n",
    "        'https://cms.cispa.saarland'\n",
    "        ]\n",
    "\n",
    "# same website\n",
    "sim20 = ['https://cispa.de/de',\n",
    "         'https://cispa.de/en'\n",
    "        ]\n",
    "\n",
    "sim21 = ['https://www.uni-saarland.de/start.html'\n",
    "         'https://www.uni-saarland.de/forschung/profil.html'\n",
    "        ]"
   ]
  },
  {
   "cell_type": "markdown",
   "id": "intense-upper",
   "metadata": {},
   "source": [
    "#### Different Domains"
   ]
  },
  {
   "cell_type": "code",
   "execution_count": 4,
   "id": "pressed-marketplace",
   "metadata": {},
   "outputs": [],
   "source": [
    "folder = 'sim0'\n",
    "files = []"
   ]
  },
  {
   "cell_type": "code",
   "execution_count": 5,
   "id": "ancient-strap",
   "metadata": {
    "scrolled": false
   },
   "outputs": [
    {
     "name": "stdout",
     "output_type": "stream",
     "text": [
      "['eval_resutls/sim0/www.google.com/cms.cispa.saarland.log']\n",
      "['eval_resutls/sim0/www.google.com/cms.cispa.saarland.log', 'eval_resutls/sim0/www.google.com/www.uni-saarland.de.log']\n",
      "['eval_resutls/sim0/www.google.com/cms.cispa.saarland.log', 'eval_resutls/sim0/www.google.com/www.uni-saarland.de.log', 'eval_resutls/sim0/www.google.com/github.com.log']\n",
      "['eval_resutls/sim0/www.google.com/cms.cispa.saarland.log', 'eval_resutls/sim0/www.google.com/www.uni-saarland.de.log', 'eval_resutls/sim0/www.google.com/github.com.log', 'eval_resutls/sim0/www.google.com/amazon.com.log']\n",
      "['eval_resutls/sim0/www.google.com/cms.cispa.saarland.log', 'eval_resutls/sim0/www.google.com/www.uni-saarland.de.log', 'eval_resutls/sim0/www.google.com/github.com.log', 'eval_resutls/sim0/www.google.com/amazon.com.log', 'eval_resutls/sim0/www.google.com/twitter.com.log']\n",
      "['eval_resutls/sim0/www.google.com/cms.cispa.saarland.log', 'eval_resutls/sim0/www.google.com/www.uni-saarland.de.log', 'eval_resutls/sim0/www.google.com/github.com.log', 'eval_resutls/sim0/www.google.com/amazon.com.log', 'eval_resutls/sim0/www.google.com/twitter.com.log', 'eval_resutls/sim0/cms.cispa.saarland/www.google.com.log']\n",
      "['eval_resutls/sim0/www.google.com/cms.cispa.saarland.log', 'eval_resutls/sim0/www.google.com/www.uni-saarland.de.log', 'eval_resutls/sim0/www.google.com/github.com.log', 'eval_resutls/sim0/www.google.com/amazon.com.log', 'eval_resutls/sim0/www.google.com/twitter.com.log', 'eval_resutls/sim0/cms.cispa.saarland/www.google.com.log', 'eval_resutls/sim0/cms.cispa.saarland/www.uni-saarland.de.log']\n",
      "['eval_resutls/sim0/www.google.com/cms.cispa.saarland.log', 'eval_resutls/sim0/www.google.com/www.uni-saarland.de.log', 'eval_resutls/sim0/www.google.com/github.com.log', 'eval_resutls/sim0/www.google.com/amazon.com.log', 'eval_resutls/sim0/www.google.com/twitter.com.log', 'eval_resutls/sim0/cms.cispa.saarland/www.google.com.log', 'eval_resutls/sim0/cms.cispa.saarland/www.uni-saarland.de.log', 'eval_resutls/sim0/cms.cispa.saarland/github.com.log']\n",
      "['eval_resutls/sim0/www.google.com/cms.cispa.saarland.log', 'eval_resutls/sim0/www.google.com/www.uni-saarland.de.log', 'eval_resutls/sim0/www.google.com/github.com.log', 'eval_resutls/sim0/www.google.com/amazon.com.log', 'eval_resutls/sim0/www.google.com/twitter.com.log', 'eval_resutls/sim0/cms.cispa.saarland/www.google.com.log', 'eval_resutls/sim0/cms.cispa.saarland/www.uni-saarland.de.log', 'eval_resutls/sim0/cms.cispa.saarland/github.com.log', 'eval_resutls/sim0/cms.cispa.saarland/amazon.com.log']\n",
      "['eval_resutls/sim0/www.google.com/cms.cispa.saarland.log', 'eval_resutls/sim0/www.google.com/www.uni-saarland.de.log', 'eval_resutls/sim0/www.google.com/github.com.log', 'eval_resutls/sim0/www.google.com/amazon.com.log', 'eval_resutls/sim0/www.google.com/twitter.com.log', 'eval_resutls/sim0/cms.cispa.saarland/www.google.com.log', 'eval_resutls/sim0/cms.cispa.saarland/www.uni-saarland.de.log', 'eval_resutls/sim0/cms.cispa.saarland/github.com.log', 'eval_resutls/sim0/cms.cispa.saarland/amazon.com.log', 'eval_resutls/sim0/cms.cispa.saarland/twitter.com.log']\n",
      "['eval_resutls/sim0/www.google.com/cms.cispa.saarland.log', 'eval_resutls/sim0/www.google.com/www.uni-saarland.de.log', 'eval_resutls/sim0/www.google.com/github.com.log', 'eval_resutls/sim0/www.google.com/amazon.com.log', 'eval_resutls/sim0/www.google.com/twitter.com.log', 'eval_resutls/sim0/cms.cispa.saarland/www.google.com.log', 'eval_resutls/sim0/cms.cispa.saarland/www.uni-saarland.de.log', 'eval_resutls/sim0/cms.cispa.saarland/github.com.log', 'eval_resutls/sim0/cms.cispa.saarland/amazon.com.log', 'eval_resutls/sim0/cms.cispa.saarland/twitter.com.log', 'eval_resutls/sim0/www.uni-saarland.de/www.google.com.log']\n",
      "['eval_resutls/sim0/www.google.com/cms.cispa.saarland.log', 'eval_resutls/sim0/www.google.com/www.uni-saarland.de.log', 'eval_resutls/sim0/www.google.com/github.com.log', 'eval_resutls/sim0/www.google.com/amazon.com.log', 'eval_resutls/sim0/www.google.com/twitter.com.log', 'eval_resutls/sim0/cms.cispa.saarland/www.google.com.log', 'eval_resutls/sim0/cms.cispa.saarland/www.uni-saarland.de.log', 'eval_resutls/sim0/cms.cispa.saarland/github.com.log', 'eval_resutls/sim0/cms.cispa.saarland/amazon.com.log', 'eval_resutls/sim0/cms.cispa.saarland/twitter.com.log', 'eval_resutls/sim0/www.uni-saarland.de/www.google.com.log', 'eval_resutls/sim0/www.uni-saarland.de/cms.cispa.saarland.log']\n",
      "['eval_resutls/sim0/www.google.com/cms.cispa.saarland.log', 'eval_resutls/sim0/www.google.com/www.uni-saarland.de.log', 'eval_resutls/sim0/www.google.com/github.com.log', 'eval_resutls/sim0/www.google.com/amazon.com.log', 'eval_resutls/sim0/www.google.com/twitter.com.log', 'eval_resutls/sim0/cms.cispa.saarland/www.google.com.log', 'eval_resutls/sim0/cms.cispa.saarland/www.uni-saarland.de.log', 'eval_resutls/sim0/cms.cispa.saarland/github.com.log', 'eval_resutls/sim0/cms.cispa.saarland/amazon.com.log', 'eval_resutls/sim0/cms.cispa.saarland/twitter.com.log', 'eval_resutls/sim0/www.uni-saarland.de/www.google.com.log', 'eval_resutls/sim0/www.uni-saarland.de/cms.cispa.saarland.log', 'eval_resutls/sim0/www.uni-saarland.de/github.com.log']\n",
      "['eval_resutls/sim0/www.google.com/cms.cispa.saarland.log', 'eval_resutls/sim0/www.google.com/www.uni-saarland.de.log', 'eval_resutls/sim0/www.google.com/github.com.log', 'eval_resutls/sim0/www.google.com/amazon.com.log', 'eval_resutls/sim0/www.google.com/twitter.com.log', 'eval_resutls/sim0/cms.cispa.saarland/www.google.com.log', 'eval_resutls/sim0/cms.cispa.saarland/www.uni-saarland.de.log', 'eval_resutls/sim0/cms.cispa.saarland/github.com.log', 'eval_resutls/sim0/cms.cispa.saarland/amazon.com.log', 'eval_resutls/sim0/cms.cispa.saarland/twitter.com.log', 'eval_resutls/sim0/www.uni-saarland.de/www.google.com.log', 'eval_resutls/sim0/www.uni-saarland.de/cms.cispa.saarland.log', 'eval_resutls/sim0/www.uni-saarland.de/github.com.log', 'eval_resutls/sim0/www.uni-saarland.de/amazon.com.log']\n",
      "['eval_resutls/sim0/www.google.com/cms.cispa.saarland.log', 'eval_resutls/sim0/www.google.com/www.uni-saarland.de.log', 'eval_resutls/sim0/www.google.com/github.com.log', 'eval_resutls/sim0/www.google.com/amazon.com.log', 'eval_resutls/sim0/www.google.com/twitter.com.log', 'eval_resutls/sim0/cms.cispa.saarland/www.google.com.log', 'eval_resutls/sim0/cms.cispa.saarland/www.uni-saarland.de.log', 'eval_resutls/sim0/cms.cispa.saarland/github.com.log', 'eval_resutls/sim0/cms.cispa.saarland/amazon.com.log', 'eval_resutls/sim0/cms.cispa.saarland/twitter.com.log', 'eval_resutls/sim0/www.uni-saarland.de/www.google.com.log', 'eval_resutls/sim0/www.uni-saarland.de/cms.cispa.saarland.log', 'eval_resutls/sim0/www.uni-saarland.de/github.com.log', 'eval_resutls/sim0/www.uni-saarland.de/amazon.com.log', 'eval_resutls/sim0/www.uni-saarland.de/twitter.com.log']\n",
      "['eval_resutls/sim0/www.google.com/cms.cispa.saarland.log', 'eval_resutls/sim0/www.google.com/www.uni-saarland.de.log', 'eval_resutls/sim0/www.google.com/github.com.log', 'eval_resutls/sim0/www.google.com/amazon.com.log', 'eval_resutls/sim0/www.google.com/twitter.com.log', 'eval_resutls/sim0/cms.cispa.saarland/www.google.com.log', 'eval_resutls/sim0/cms.cispa.saarland/www.uni-saarland.de.log', 'eval_resutls/sim0/cms.cispa.saarland/github.com.log', 'eval_resutls/sim0/cms.cispa.saarland/amazon.com.log', 'eval_resutls/sim0/cms.cispa.saarland/twitter.com.log', 'eval_resutls/sim0/www.uni-saarland.de/www.google.com.log', 'eval_resutls/sim0/www.uni-saarland.de/cms.cispa.saarland.log', 'eval_resutls/sim0/www.uni-saarland.de/github.com.log', 'eval_resutls/sim0/www.uni-saarland.de/amazon.com.log', 'eval_resutls/sim0/www.uni-saarland.de/twitter.com.log', 'eval_resutls/sim0/github.com/www.google.com.log']\n",
      "['eval_resutls/sim0/www.google.com/cms.cispa.saarland.log', 'eval_resutls/sim0/www.google.com/www.uni-saarland.de.log', 'eval_resutls/sim0/www.google.com/github.com.log', 'eval_resutls/sim0/www.google.com/amazon.com.log', 'eval_resutls/sim0/www.google.com/twitter.com.log', 'eval_resutls/sim0/cms.cispa.saarland/www.google.com.log', 'eval_resutls/sim0/cms.cispa.saarland/www.uni-saarland.de.log', 'eval_resutls/sim0/cms.cispa.saarland/github.com.log', 'eval_resutls/sim0/cms.cispa.saarland/amazon.com.log', 'eval_resutls/sim0/cms.cispa.saarland/twitter.com.log', 'eval_resutls/sim0/www.uni-saarland.de/www.google.com.log', 'eval_resutls/sim0/www.uni-saarland.de/cms.cispa.saarland.log', 'eval_resutls/sim0/www.uni-saarland.de/github.com.log', 'eval_resutls/sim0/www.uni-saarland.de/amazon.com.log', 'eval_resutls/sim0/www.uni-saarland.de/twitter.com.log', 'eval_resutls/sim0/github.com/www.google.com.log', 'eval_resutls/sim0/github.com/cms.cispa.saarland.log']\n"
     ]
    },
    {
     "name": "stdout",
     "output_type": "stream",
     "text": [
      "['eval_resutls/sim0/www.google.com/cms.cispa.saarland.log', 'eval_resutls/sim0/www.google.com/www.uni-saarland.de.log', 'eval_resutls/sim0/www.google.com/github.com.log', 'eval_resutls/sim0/www.google.com/amazon.com.log', 'eval_resutls/sim0/www.google.com/twitter.com.log', 'eval_resutls/sim0/cms.cispa.saarland/www.google.com.log', 'eval_resutls/sim0/cms.cispa.saarland/www.uni-saarland.de.log', 'eval_resutls/sim0/cms.cispa.saarland/github.com.log', 'eval_resutls/sim0/cms.cispa.saarland/amazon.com.log', 'eval_resutls/sim0/cms.cispa.saarland/twitter.com.log', 'eval_resutls/sim0/www.uni-saarland.de/www.google.com.log', 'eval_resutls/sim0/www.uni-saarland.de/cms.cispa.saarland.log', 'eval_resutls/sim0/www.uni-saarland.de/github.com.log', 'eval_resutls/sim0/www.uni-saarland.de/amazon.com.log', 'eval_resutls/sim0/www.uni-saarland.de/twitter.com.log', 'eval_resutls/sim0/github.com/www.google.com.log', 'eval_resutls/sim0/github.com/cms.cispa.saarland.log', 'eval_resutls/sim0/github.com/www.uni-saarland.de.log']\n",
      "['eval_resutls/sim0/www.google.com/cms.cispa.saarland.log', 'eval_resutls/sim0/www.google.com/www.uni-saarland.de.log', 'eval_resutls/sim0/www.google.com/github.com.log', 'eval_resutls/sim0/www.google.com/amazon.com.log', 'eval_resutls/sim0/www.google.com/twitter.com.log', 'eval_resutls/sim0/cms.cispa.saarland/www.google.com.log', 'eval_resutls/sim0/cms.cispa.saarland/www.uni-saarland.de.log', 'eval_resutls/sim0/cms.cispa.saarland/github.com.log', 'eval_resutls/sim0/cms.cispa.saarland/amazon.com.log', 'eval_resutls/sim0/cms.cispa.saarland/twitter.com.log', 'eval_resutls/sim0/www.uni-saarland.de/www.google.com.log', 'eval_resutls/sim0/www.uni-saarland.de/cms.cispa.saarland.log', 'eval_resutls/sim0/www.uni-saarland.de/github.com.log', 'eval_resutls/sim0/www.uni-saarland.de/amazon.com.log', 'eval_resutls/sim0/www.uni-saarland.de/twitter.com.log', 'eval_resutls/sim0/github.com/www.google.com.log', 'eval_resutls/sim0/github.com/cms.cispa.saarland.log', 'eval_resutls/sim0/github.com/www.uni-saarland.de.log', 'eval_resutls/sim0/github.com/amazon.com.log']\n",
      "['eval_resutls/sim0/www.google.com/cms.cispa.saarland.log', 'eval_resutls/sim0/www.google.com/www.uni-saarland.de.log', 'eval_resutls/sim0/www.google.com/github.com.log', 'eval_resutls/sim0/www.google.com/amazon.com.log', 'eval_resutls/sim0/www.google.com/twitter.com.log', 'eval_resutls/sim0/cms.cispa.saarland/www.google.com.log', 'eval_resutls/sim0/cms.cispa.saarland/www.uni-saarland.de.log', 'eval_resutls/sim0/cms.cispa.saarland/github.com.log', 'eval_resutls/sim0/cms.cispa.saarland/amazon.com.log', 'eval_resutls/sim0/cms.cispa.saarland/twitter.com.log', 'eval_resutls/sim0/www.uni-saarland.de/www.google.com.log', 'eval_resutls/sim0/www.uni-saarland.de/cms.cispa.saarland.log', 'eval_resutls/sim0/www.uni-saarland.de/github.com.log', 'eval_resutls/sim0/www.uni-saarland.de/amazon.com.log', 'eval_resutls/sim0/www.uni-saarland.de/twitter.com.log', 'eval_resutls/sim0/github.com/www.google.com.log', 'eval_resutls/sim0/github.com/cms.cispa.saarland.log', 'eval_resutls/sim0/github.com/www.uni-saarland.de.log', 'eval_resutls/sim0/github.com/amazon.com.log', 'eval_resutls/sim0/github.com/twitter.com.log']\n",
      "['eval_resutls/sim0/www.google.com/cms.cispa.saarland.log', 'eval_resutls/sim0/www.google.com/www.uni-saarland.de.log', 'eval_resutls/sim0/www.google.com/github.com.log', 'eval_resutls/sim0/www.google.com/amazon.com.log', 'eval_resutls/sim0/www.google.com/twitter.com.log', 'eval_resutls/sim0/cms.cispa.saarland/www.google.com.log', 'eval_resutls/sim0/cms.cispa.saarland/www.uni-saarland.de.log', 'eval_resutls/sim0/cms.cispa.saarland/github.com.log', 'eval_resutls/sim0/cms.cispa.saarland/amazon.com.log', 'eval_resutls/sim0/cms.cispa.saarland/twitter.com.log', 'eval_resutls/sim0/www.uni-saarland.de/www.google.com.log', 'eval_resutls/sim0/www.uni-saarland.de/cms.cispa.saarland.log', 'eval_resutls/sim0/www.uni-saarland.de/github.com.log', 'eval_resutls/sim0/www.uni-saarland.de/amazon.com.log', 'eval_resutls/sim0/www.uni-saarland.de/twitter.com.log', 'eval_resutls/sim0/github.com/www.google.com.log', 'eval_resutls/sim0/github.com/cms.cispa.saarland.log', 'eval_resutls/sim0/github.com/www.uni-saarland.de.log', 'eval_resutls/sim0/github.com/amazon.com.log', 'eval_resutls/sim0/github.com/twitter.com.log', 'eval_resutls/sim0/amazon.com/www.google.com.log']\n",
      "['eval_resutls/sim0/www.google.com/cms.cispa.saarland.log', 'eval_resutls/sim0/www.google.com/www.uni-saarland.de.log', 'eval_resutls/sim0/www.google.com/github.com.log', 'eval_resutls/sim0/www.google.com/amazon.com.log', 'eval_resutls/sim0/www.google.com/twitter.com.log', 'eval_resutls/sim0/cms.cispa.saarland/www.google.com.log', 'eval_resutls/sim0/cms.cispa.saarland/www.uni-saarland.de.log', 'eval_resutls/sim0/cms.cispa.saarland/github.com.log', 'eval_resutls/sim0/cms.cispa.saarland/amazon.com.log', 'eval_resutls/sim0/cms.cispa.saarland/twitter.com.log', 'eval_resutls/sim0/www.uni-saarland.de/www.google.com.log', 'eval_resutls/sim0/www.uni-saarland.de/cms.cispa.saarland.log', 'eval_resutls/sim0/www.uni-saarland.de/github.com.log', 'eval_resutls/sim0/www.uni-saarland.de/amazon.com.log', 'eval_resutls/sim0/www.uni-saarland.de/twitter.com.log', 'eval_resutls/sim0/github.com/www.google.com.log', 'eval_resutls/sim0/github.com/cms.cispa.saarland.log', 'eval_resutls/sim0/github.com/www.uni-saarland.de.log', 'eval_resutls/sim0/github.com/amazon.com.log', 'eval_resutls/sim0/github.com/twitter.com.log', 'eval_resutls/sim0/amazon.com/www.google.com.log', 'eval_resutls/sim0/amazon.com/cms.cispa.saarland.log']\n",
      "['eval_resutls/sim0/www.google.com/cms.cispa.saarland.log', 'eval_resutls/sim0/www.google.com/www.uni-saarland.de.log', 'eval_resutls/sim0/www.google.com/github.com.log', 'eval_resutls/sim0/www.google.com/amazon.com.log', 'eval_resutls/sim0/www.google.com/twitter.com.log', 'eval_resutls/sim0/cms.cispa.saarland/www.google.com.log', 'eval_resutls/sim0/cms.cispa.saarland/www.uni-saarland.de.log', 'eval_resutls/sim0/cms.cispa.saarland/github.com.log', 'eval_resutls/sim0/cms.cispa.saarland/amazon.com.log', 'eval_resutls/sim0/cms.cispa.saarland/twitter.com.log', 'eval_resutls/sim0/www.uni-saarland.de/www.google.com.log', 'eval_resutls/sim0/www.uni-saarland.de/cms.cispa.saarland.log', 'eval_resutls/sim0/www.uni-saarland.de/github.com.log', 'eval_resutls/sim0/www.uni-saarland.de/amazon.com.log', 'eval_resutls/sim0/www.uni-saarland.de/twitter.com.log', 'eval_resutls/sim0/github.com/www.google.com.log', 'eval_resutls/sim0/github.com/cms.cispa.saarland.log', 'eval_resutls/sim0/github.com/www.uni-saarland.de.log', 'eval_resutls/sim0/github.com/amazon.com.log', 'eval_resutls/sim0/github.com/twitter.com.log', 'eval_resutls/sim0/amazon.com/www.google.com.log', 'eval_resutls/sim0/amazon.com/cms.cispa.saarland.log', 'eval_resutls/sim0/amazon.com/www.uni-saarland.de.log']\n",
      "['eval_resutls/sim0/www.google.com/cms.cispa.saarland.log', 'eval_resutls/sim0/www.google.com/www.uni-saarland.de.log', 'eval_resutls/sim0/www.google.com/github.com.log', 'eval_resutls/sim0/www.google.com/amazon.com.log', 'eval_resutls/sim0/www.google.com/twitter.com.log', 'eval_resutls/sim0/cms.cispa.saarland/www.google.com.log', 'eval_resutls/sim0/cms.cispa.saarland/www.uni-saarland.de.log', 'eval_resutls/sim0/cms.cispa.saarland/github.com.log', 'eval_resutls/sim0/cms.cispa.saarland/amazon.com.log', 'eval_resutls/sim0/cms.cispa.saarland/twitter.com.log', 'eval_resutls/sim0/www.uni-saarland.de/www.google.com.log', 'eval_resutls/sim0/www.uni-saarland.de/cms.cispa.saarland.log', 'eval_resutls/sim0/www.uni-saarland.de/github.com.log', 'eval_resutls/sim0/www.uni-saarland.de/amazon.com.log', 'eval_resutls/sim0/www.uni-saarland.de/twitter.com.log', 'eval_resutls/sim0/github.com/www.google.com.log', 'eval_resutls/sim0/github.com/cms.cispa.saarland.log', 'eval_resutls/sim0/github.com/www.uni-saarland.de.log', 'eval_resutls/sim0/github.com/amazon.com.log', 'eval_resutls/sim0/github.com/twitter.com.log', 'eval_resutls/sim0/amazon.com/www.google.com.log', 'eval_resutls/sim0/amazon.com/cms.cispa.saarland.log', 'eval_resutls/sim0/amazon.com/www.uni-saarland.de.log', 'eval_resutls/sim0/amazon.com/github.com.log']\n",
      "['eval_resutls/sim0/www.google.com/cms.cispa.saarland.log', 'eval_resutls/sim0/www.google.com/www.uni-saarland.de.log', 'eval_resutls/sim0/www.google.com/github.com.log', 'eval_resutls/sim0/www.google.com/amazon.com.log', 'eval_resutls/sim0/www.google.com/twitter.com.log', 'eval_resutls/sim0/cms.cispa.saarland/www.google.com.log', 'eval_resutls/sim0/cms.cispa.saarland/www.uni-saarland.de.log', 'eval_resutls/sim0/cms.cispa.saarland/github.com.log', 'eval_resutls/sim0/cms.cispa.saarland/amazon.com.log', 'eval_resutls/sim0/cms.cispa.saarland/twitter.com.log', 'eval_resutls/sim0/www.uni-saarland.de/www.google.com.log', 'eval_resutls/sim0/www.uni-saarland.de/cms.cispa.saarland.log', 'eval_resutls/sim0/www.uni-saarland.de/github.com.log', 'eval_resutls/sim0/www.uni-saarland.de/amazon.com.log', 'eval_resutls/sim0/www.uni-saarland.de/twitter.com.log', 'eval_resutls/sim0/github.com/www.google.com.log', 'eval_resutls/sim0/github.com/cms.cispa.saarland.log', 'eval_resutls/sim0/github.com/www.uni-saarland.de.log', 'eval_resutls/sim0/github.com/amazon.com.log', 'eval_resutls/sim0/github.com/twitter.com.log', 'eval_resutls/sim0/amazon.com/www.google.com.log', 'eval_resutls/sim0/amazon.com/cms.cispa.saarland.log', 'eval_resutls/sim0/amazon.com/www.uni-saarland.de.log', 'eval_resutls/sim0/amazon.com/github.com.log', 'eval_resutls/sim0/amazon.com/twitter.com.log']\n"
     ]
    },
    {
     "name": "stdout",
     "output_type": "stream",
     "text": [
      "['eval_resutls/sim0/www.google.com/cms.cispa.saarland.log', 'eval_resutls/sim0/www.google.com/www.uni-saarland.de.log', 'eval_resutls/sim0/www.google.com/github.com.log', 'eval_resutls/sim0/www.google.com/amazon.com.log', 'eval_resutls/sim0/www.google.com/twitter.com.log', 'eval_resutls/sim0/cms.cispa.saarland/www.google.com.log', 'eval_resutls/sim0/cms.cispa.saarland/www.uni-saarland.de.log', 'eval_resutls/sim0/cms.cispa.saarland/github.com.log', 'eval_resutls/sim0/cms.cispa.saarland/amazon.com.log', 'eval_resutls/sim0/cms.cispa.saarland/twitter.com.log', 'eval_resutls/sim0/www.uni-saarland.de/www.google.com.log', 'eval_resutls/sim0/www.uni-saarland.de/cms.cispa.saarland.log', 'eval_resutls/sim0/www.uni-saarland.de/github.com.log', 'eval_resutls/sim0/www.uni-saarland.de/amazon.com.log', 'eval_resutls/sim0/www.uni-saarland.de/twitter.com.log', 'eval_resutls/sim0/github.com/www.google.com.log', 'eval_resutls/sim0/github.com/cms.cispa.saarland.log', 'eval_resutls/sim0/github.com/www.uni-saarland.de.log', 'eval_resutls/sim0/github.com/amazon.com.log', 'eval_resutls/sim0/github.com/twitter.com.log', 'eval_resutls/sim0/amazon.com/www.google.com.log', 'eval_resutls/sim0/amazon.com/cms.cispa.saarland.log', 'eval_resutls/sim0/amazon.com/www.uni-saarland.de.log', 'eval_resutls/sim0/amazon.com/github.com.log', 'eval_resutls/sim0/amazon.com/twitter.com.log', 'eval_resutls/sim0/twitter.com/www.google.com.log']\n",
      "['eval_resutls/sim0/www.google.com/cms.cispa.saarland.log', 'eval_resutls/sim0/www.google.com/www.uni-saarland.de.log', 'eval_resutls/sim0/www.google.com/github.com.log', 'eval_resutls/sim0/www.google.com/amazon.com.log', 'eval_resutls/sim0/www.google.com/twitter.com.log', 'eval_resutls/sim0/cms.cispa.saarland/www.google.com.log', 'eval_resutls/sim0/cms.cispa.saarland/www.uni-saarland.de.log', 'eval_resutls/sim0/cms.cispa.saarland/github.com.log', 'eval_resutls/sim0/cms.cispa.saarland/amazon.com.log', 'eval_resutls/sim0/cms.cispa.saarland/twitter.com.log', 'eval_resutls/sim0/www.uni-saarland.de/www.google.com.log', 'eval_resutls/sim0/www.uni-saarland.de/cms.cispa.saarland.log', 'eval_resutls/sim0/www.uni-saarland.de/github.com.log', 'eval_resutls/sim0/www.uni-saarland.de/amazon.com.log', 'eval_resutls/sim0/www.uni-saarland.de/twitter.com.log', 'eval_resutls/sim0/github.com/www.google.com.log', 'eval_resutls/sim0/github.com/cms.cispa.saarland.log', 'eval_resutls/sim0/github.com/www.uni-saarland.de.log', 'eval_resutls/sim0/github.com/amazon.com.log', 'eval_resutls/sim0/github.com/twitter.com.log', 'eval_resutls/sim0/amazon.com/www.google.com.log', 'eval_resutls/sim0/amazon.com/cms.cispa.saarland.log', 'eval_resutls/sim0/amazon.com/www.uni-saarland.de.log', 'eval_resutls/sim0/amazon.com/github.com.log', 'eval_resutls/sim0/amazon.com/twitter.com.log', 'eval_resutls/sim0/twitter.com/www.google.com.log', 'eval_resutls/sim0/twitter.com/cms.cispa.saarland.log']\n",
      "['eval_resutls/sim0/www.google.com/cms.cispa.saarland.log', 'eval_resutls/sim0/www.google.com/www.uni-saarland.de.log', 'eval_resutls/sim0/www.google.com/github.com.log', 'eval_resutls/sim0/www.google.com/amazon.com.log', 'eval_resutls/sim0/www.google.com/twitter.com.log', 'eval_resutls/sim0/cms.cispa.saarland/www.google.com.log', 'eval_resutls/sim0/cms.cispa.saarland/www.uni-saarland.de.log', 'eval_resutls/sim0/cms.cispa.saarland/github.com.log', 'eval_resutls/sim0/cms.cispa.saarland/amazon.com.log', 'eval_resutls/sim0/cms.cispa.saarland/twitter.com.log', 'eval_resutls/sim0/www.uni-saarland.de/www.google.com.log', 'eval_resutls/sim0/www.uni-saarland.de/cms.cispa.saarland.log', 'eval_resutls/sim0/www.uni-saarland.de/github.com.log', 'eval_resutls/sim0/www.uni-saarland.de/amazon.com.log', 'eval_resutls/sim0/www.uni-saarland.de/twitter.com.log', 'eval_resutls/sim0/github.com/www.google.com.log', 'eval_resutls/sim0/github.com/cms.cispa.saarland.log', 'eval_resutls/sim0/github.com/www.uni-saarland.de.log', 'eval_resutls/sim0/github.com/amazon.com.log', 'eval_resutls/sim0/github.com/twitter.com.log', 'eval_resutls/sim0/amazon.com/www.google.com.log', 'eval_resutls/sim0/amazon.com/cms.cispa.saarland.log', 'eval_resutls/sim0/amazon.com/www.uni-saarland.de.log', 'eval_resutls/sim0/amazon.com/github.com.log', 'eval_resutls/sim0/amazon.com/twitter.com.log', 'eval_resutls/sim0/twitter.com/www.google.com.log', 'eval_resutls/sim0/twitter.com/cms.cispa.saarland.log', 'eval_resutls/sim0/twitter.com/www.uni-saarland.de.log']\n",
      "['eval_resutls/sim0/www.google.com/cms.cispa.saarland.log', 'eval_resutls/sim0/www.google.com/www.uni-saarland.de.log', 'eval_resutls/sim0/www.google.com/github.com.log', 'eval_resutls/sim0/www.google.com/amazon.com.log', 'eval_resutls/sim0/www.google.com/twitter.com.log', 'eval_resutls/sim0/cms.cispa.saarland/www.google.com.log', 'eval_resutls/sim0/cms.cispa.saarland/www.uni-saarland.de.log', 'eval_resutls/sim0/cms.cispa.saarland/github.com.log', 'eval_resutls/sim0/cms.cispa.saarland/amazon.com.log', 'eval_resutls/sim0/cms.cispa.saarland/twitter.com.log', 'eval_resutls/sim0/www.uni-saarland.de/www.google.com.log', 'eval_resutls/sim0/www.uni-saarland.de/cms.cispa.saarland.log', 'eval_resutls/sim0/www.uni-saarland.de/github.com.log', 'eval_resutls/sim0/www.uni-saarland.de/amazon.com.log', 'eval_resutls/sim0/www.uni-saarland.de/twitter.com.log', 'eval_resutls/sim0/github.com/www.google.com.log', 'eval_resutls/sim0/github.com/cms.cispa.saarland.log', 'eval_resutls/sim0/github.com/www.uni-saarland.de.log', 'eval_resutls/sim0/github.com/amazon.com.log', 'eval_resutls/sim0/github.com/twitter.com.log', 'eval_resutls/sim0/amazon.com/www.google.com.log', 'eval_resutls/sim0/amazon.com/cms.cispa.saarland.log', 'eval_resutls/sim0/amazon.com/www.uni-saarland.de.log', 'eval_resutls/sim0/amazon.com/github.com.log', 'eval_resutls/sim0/amazon.com/twitter.com.log', 'eval_resutls/sim0/twitter.com/www.google.com.log', 'eval_resutls/sim0/twitter.com/cms.cispa.saarland.log', 'eval_resutls/sim0/twitter.com/www.uni-saarland.de.log', 'eval_resutls/sim0/twitter.com/github.com.log']\n",
      "['eval_resutls/sim0/www.google.com/cms.cispa.saarland.log', 'eval_resutls/sim0/www.google.com/www.uni-saarland.de.log', 'eval_resutls/sim0/www.google.com/github.com.log', 'eval_resutls/sim0/www.google.com/amazon.com.log', 'eval_resutls/sim0/www.google.com/twitter.com.log', 'eval_resutls/sim0/cms.cispa.saarland/www.google.com.log', 'eval_resutls/sim0/cms.cispa.saarland/www.uni-saarland.de.log', 'eval_resutls/sim0/cms.cispa.saarland/github.com.log', 'eval_resutls/sim0/cms.cispa.saarland/amazon.com.log', 'eval_resutls/sim0/cms.cispa.saarland/twitter.com.log', 'eval_resutls/sim0/www.uni-saarland.de/www.google.com.log', 'eval_resutls/sim0/www.uni-saarland.de/cms.cispa.saarland.log', 'eval_resutls/sim0/www.uni-saarland.de/github.com.log', 'eval_resutls/sim0/www.uni-saarland.de/amazon.com.log', 'eval_resutls/sim0/www.uni-saarland.de/twitter.com.log', 'eval_resutls/sim0/github.com/www.google.com.log', 'eval_resutls/sim0/github.com/cms.cispa.saarland.log', 'eval_resutls/sim0/github.com/www.uni-saarland.de.log', 'eval_resutls/sim0/github.com/amazon.com.log', 'eval_resutls/sim0/github.com/twitter.com.log', 'eval_resutls/sim0/amazon.com/www.google.com.log', 'eval_resutls/sim0/amazon.com/cms.cispa.saarland.log', 'eval_resutls/sim0/amazon.com/www.uni-saarland.de.log', 'eval_resutls/sim0/amazon.com/github.com.log', 'eval_resutls/sim0/amazon.com/twitter.com.log', 'eval_resutls/sim0/twitter.com/www.google.com.log', 'eval_resutls/sim0/twitter.com/cms.cispa.saarland.log', 'eval_resutls/sim0/twitter.com/www.uni-saarland.de.log', 'eval_resutls/sim0/twitter.com/github.com.log', 'eval_resutls/sim0/twitter.com/amazon.com.log']\n"
     ]
    }
   ],
   "source": [
    "comparer = Comparer.Comparer()\n",
    "\n",
    "for url1 in sim0:\n",
    "    log_dir = f'{_DIR}/{folder}/{Helper.get_domain(url1)}'\n",
    "    os.system(f'mkdir {log_dir}')\n",
    "        \n",
    "    for url2 in sim0:\n",
    "        if not url1 == url2:\n",
    "            comparer.set_parameter(url1, url2)\n",
    "            files.append(comparer.enable_logging(f'{log_dir}/'))\n",
    "            comparer.compare_websites()"
   ]
  },
  {
   "cell_type": "code",
   "execution_count": 7,
   "id": "unsigned-fraud",
   "metadata": {},
   "outputs": [
    {
     "name": "stdout",
     "output_type": "stream",
     "text": [
      "['{url1:https://www.google.com, url2:https://cms.cispa.saarland, Content:(0.0, 2.0, 0.04411764705882353, 0.25), Domain:(0.0, 2.0, 0.0, 0.66), Links:(0.0, 2.0, 0.0, 0.02), Image-Urls:(0.0, 2.0, 0.0, 0.05), Screenshots:(0.0, 2.0, 0.0, 0.99)}']\n",
      "['{url1:https://www.google.com, url2:https://www.uni-saarland.de/start.html, Content:(0.0, 2.0, 0.0, 0.25), Domain:(0.5, 2.0, 0.3333333333333333, 0.66), Links:(0.0, 2.0, 0.0, 0.02), Image-Urls:(0.0, 2.0, 0.0, 0.05), Screenshots:(0.0, 2.0, 0.0, 0.99)}']\n",
      "['{url1:https://www.google.com, url2:https://github.com, Content:(0.0, 2.0, 0.0, 0.25), Domain:(1.0, 2.0, 0.4, 0.66), Links:(0.0, 2.0, 0.0, 0.02), Image-Urls:(2.0, 2.0, 0.13515406162464974, 0.05), Screenshots:(0.0, 2.0, 0.0, 0.99)}']\n",
      "['{url1:https://www.google.com, url2:https://amazon.com, Content:(0.0, 2.0, 0.058823529411764705, 0.25), Domain:(1.0, 2.0, 0.4, 0.66), Links:(0.0, 2.0, 0.0, 0.02), Image-Urls:(0.0, 2.0, 0.0, 0.05), Screenshots:(0.0, 2.0, 0.0, 0.99)}']\n",
      "['{url1:https://www.google.com, url2:https://twitter.com, Content:(0.5, 2.0, 0.12121212121212122, 0.25), Domain:(1.0, 2.0, 0.4, 0.66), Links:(0.0, 2.0, 0.0, 0.02), Image-Urls:(0.0, 2.0, 0.0, 0.05), Screenshots:(0.0, 2.0, 0.0, 0.99)}']\n",
      "['{url1:https://cms.cispa.saarland, url2:https://www.google.com, Content:(0.0, 2.0, 0.04411764705882353, 0.25), Domain:(0.0, 2.0, 0.0, 0.66), Links:(0.0, 2.0, 0.0, 0.02), Image-Urls:(0.0, 2.0, 0.0, 0.05), Screenshots:(0.0, 2.0, 0.0, 0.99)}']\n",
      "['{url1:https://cms.cispa.saarland, url2:https://www.uni-saarland.de/start.html, Content:(0.0, 2.0, 0.0, 0.25), Domain:(0.0, 2.0, 0.0, 0.66), Links:(0.0, 2.0, 0.0, 0.02), Image-Urls:(0.0, 2.0, 0.0, 0.05), Screenshots:(0.0, 2.0, 0.0, 0.99)}']\n",
      "['{url1:https://cms.cispa.saarland, url2:https://github.com, Content:(0.0, 2.0, 0.0, 0.25), Domain:(0.0, 2.0, 0.0, 0.66), Links:(0.0, 2.0, 0.0, 0.02), Image-Urls:(0.0, 2.0, 0.0, 0.05), Screenshots:(0.0, 2.0, 0.0, 0.99)}']\n",
      "['{url1:https://cms.cispa.saarland, url2:https://amazon.com, Content:(0.0, 2.0, 0.08846153846153847, 0.25), Domain:(0.0, 2.0, 0.0, 0.66), Links:(0.0, 2.0, 0.0, 0.02), Image-Urls:(0.0, 2.0, 0.0, 0.05), Screenshots:(0.0, 2.0, 0.0, 0.99)}']\n",
      "['{url1:https://cms.cispa.saarland, url2:https://twitter.com, Content:(0.0, 2.0, 0.08441558441558442, 0.25), Domain:(0.0, 2.0, 0.0, 0.66), Links:(0.0, 2.0, 0.0, 0.02), Image-Urls:(0.0, 2.0, 0.0, 0.05), Screenshots:(0.0, 2.0, 0.0, 0.99)}']\n",
      "['{url1:https://www.uni-saarland.de/start.html, url2:https://www.google.com, Content:(0.0, 2.0, 0.0, 0.25), Domain:(0.5, 2.0, 0.3333333333333333, 0.66), Links:(0.0, 2.0, 0.0, 0.02), Image-Urls:(0.0, 2.0, 0.0, 0.05), Screenshots:(0.0, 2.0, 0.0, 0.99)}']\n",
      "['{url1:https://www.uni-saarland.de/start.html, url2:https://cms.cispa.saarland, Content:(0.0, 2.0, 0.0, 0.25), Domain:(0.0, 2.0, 0.0, 0.66), Links:(0.0, 2.0, 0.0, 0.02), Image-Urls:(0.0, 2.0, 0.0, 0.05), Screenshots:(0.0, 2.0, 0.0, 0.99)}']\n",
      "['{url1:https://www.uni-saarland.de/start.html, url2:https://github.com, Content:(0.0, 2.0, 0.0, 0.25), Domain:(0.0, 2.0, 0.0, 0.66), Links:(0.0, 2.0, 0.0, 0.02), Image-Urls:(0.0, 2.0, 0.0, 0.05), Screenshots:(0.0, 2.0, 0.0, 0.99)}']\n",
      "['{url1:https://www.uni-saarland.de/start.html, url2:https://amazon.com, Content:(0.0, 2.0, 0.0, 0.25), Domain:(0.0, 2.0, 0.0, 0.66), Links:(0.0, 2.0, 0.0, 0.02), Image-Urls:(0.0, 2.0, 0.0, 0.05), Screenshots:(0.0, 2.0, 0.0, 0.99)}']\n",
      "['{url1:https://www.uni-saarland.de/start.html, url2:https://twitter.com, Content:(0.0, 2.0, 0.0, 0.25), Domain:(0.0, 2.0, 0.0, 0.66), Links:(0.0, 2.0, 0.0, 0.02), Image-Urls:(0.0, 2.0, 0.0, 0.05), Screenshots:(0.0, 2.0, 0.0, 0.99)}']\n",
      "['{url1:https://github.com, url2:https://www.google.com, Content:(0.0, 2.0, 0.0, 0.25), Domain:(1.0, 2.0, 0.4, 0.66), Links:(0.0, 2.0, 0.0, 0.02), Image-Urls:(2.0, 2.0, 0.13515406162464974, 0.05), Screenshots:(0.0, 2.0, 0.0, 0.99)}']\n",
      "['{url1:https://github.com, url2:https://cms.cispa.saarland, Content:(0.0, 2.0, 0.0, 0.25), Domain:(0.0, 2.0, 0.0, 0.66), Links:(0.0, 2.0, 0.0, 0.02), Image-Urls:(0.0, 2.0, 0.0, 0.05), Screenshots:(0.0, 2.0, 0.0, 0.99)}']\n",
      "['{url1:https://github.com, url2:https://www.uni-saarland.de/start.html, Content:(0.0, 2.0, 0.0, 0.25), Domain:(0.0, 2.0, 0.0, 0.66), Links:(0.0, 2.0, 0.0, 0.02), Image-Urls:(0.0, 2.0, 0.0, 0.05), Screenshots:(0.0, 2.0, 0.0, 0.99)}']\n",
      "['{url1:https://github.com, url2:https://amazon.com, Content:(0.0, 2.0, 0.0, 0.25), Domain:(1.0, 2.0, 0.5, 0.66), Links:(0.0, 2.0, 0.0, 0.02), Image-Urls:(0.0, 2.0, 0.0, 0.05), Screenshots:(0.0, 2.0, 0.0, 0.99)}']\n",
      "['{url1:https://github.com, url2:https://twitter.com, Content:(0.0, 2.0, 0.0, 0.25), Domain:(1.0, 2.0, 0.5, 0.66), Links:(0.0, 2.0, 0.0, 0.02), Image-Urls:(0.0, 2.0, 0.0, 0.05), Screenshots:(0.0, 2.0, 0.0, 0.99)}']\n",
      "['{url1:https://amazon.com, url2:https://www.google.com, Content:(1.0, 2.0, 0.19047619047619047, 0.25), Domain:(1.0, 2.0, 0.4, 0.66), Links:(0.0, 2.0, 0.0, 0.02), Image-Urls:(0.0, 2.0, 0.0, 0.05), Screenshots:(0.0, 2.0, 0.0, 0.99)}']\n",
      "['{url1:https://amazon.com, url2:https://cms.cispa.saarland, Content:(0.0, 2.0, 0.08846153846153847, 0.25), Domain:(0.0, 2.0, 0.0, 0.66), Links:(0.0, 2.0, 0.0, 0.02), Image-Urls:(0.0, 2.0, 0.0, 0.05), Screenshots:(0.0, 2.0, 0.0, 0.99)}']\n",
      "['{url1:https://amazon.com, url2:https://www.uni-saarland.de/start.html, Content:(0.0, 2.0, 0.0, 0.25), Domain:(0.0, 2.0, 0.0, 0.66), Links:(0.0, 2.0, 0.0, 0.02), Image-Urls:(0.0, 2.0, 0.0, 0.05), Screenshots:(0.0, 2.0, 0.0, 0.99)}']\n",
      "['{url1:https://amazon.com, url2:https://github.com, Content:(0.0, 2.0, 0.0, 0.25), Domain:(1.0, 2.0, 0.5, 0.66), Links:(0.0, 2.0, 0.0, 0.02), Image-Urls:(0.0, 2.0, 0.0, 0.05), Screenshots:(0.0, 2.0, 0.0, 0.99)}']\n",
      "['{url1:https://amazon.com, url2:https://twitter.com, Content:(1.0, 2.0, 0.1595744680851064, 0.25), Domain:(1.0, 2.0, 0.5, 0.66), Links:(0.0, 2.0, 0.0, 0.02), Image-Urls:(0.0, 2.0, 0.0, 0.05), Screenshots:(1.5, 2.0, 0.99, 0.99)}']\n",
      "['{url1:https://twitter.com, url2:https://www.google.com, Content:(0.5, 2.0, 0.12121212121212122, 0.25), Domain:(1.0, 2.0, 0.4, 0.66), Links:(0.0, 2.0, 0.0, 0.02), Image-Urls:(0.0, 2.0, 0.0, 0.05), Screenshots:(0.0, 2.0, 0.0, 0.99)}']\n",
      "['{url1:https://twitter.com, url2:https://cms.cispa.saarland, Content:(0.0, 2.0, 0.08441558441558442, 0.25), Domain:(0.0, 2.0, 0.0, 0.66), Links:(0.0, 2.0, 0.0, 0.02), Image-Urls:(0.0, 2.0, 0.0, 0.05), Screenshots:(0.0, 2.0, 0.0, 0.99)}']\n",
      "['{url1:https://twitter.com, url2:https://www.uni-saarland.de/start.html, Content:(0.0, 2.0, 0.0, 0.25), Domain:(0.0, 2.0, 0.0, 0.66), Links:(0.0, 2.0, 0.0, 0.02), Image-Urls:(0.0, 2.0, 0.0, 0.05), Screenshots:(0.0, 2.0, 0.0, 0.99)}']\n",
      "['{url1:https://twitter.com, url2:https://github.com, Content:(0.0, 2.0, 0.0, 0.25), Domain:(1.0, 2.0, 0.5, 0.66), Links:(0.0, 2.0, 0.0, 0.02), Image-Urls:(0.0, 2.0, 0.0, 0.05), Screenshots:(0.0, 2.0, 0.0, 0.99)}']\n",
      "['{url1:https://twitter.com, url2:https://amazon.com, Content:(0.5, 2.0, 0.12258064516129032, 0.25), Domain:(1.0, 2.0, 0.5, 0.66), Links:(0.0, 2.0, 0.0, 0.02), Image-Urls:(0.0, 2.0, 0.0, 0.05), Screenshots:(0.0, 2.0, 0.0, 0.99)}']\n"
     ]
    }
   ],
   "source": [
    "for file in files:\n",
    "    with open(file, 'r') as json:\n",
    "        print(json.readlines())"
   ]
  },
  {
   "cell_type": "markdown",
   "id": "continuous-holmes",
   "metadata": {},
   "source": [
    "#### Same Domain"
   ]
  },
  {
   "cell_type": "code",
   "execution_count": null,
   "id": "nominated-costume",
   "metadata": {},
   "outputs": [],
   "source": [
    "folder = 'sim1'"
   ]
  },
  {
   "cell_type": "code",
   "execution_count": null,
   "id": "ancient-certification",
   "metadata": {},
   "outputs": [],
   "source": [
    "comparer = Comparer.Comparer()\n",
    "\n",
    "for url1 in sim1:\n",
    "    log_dir = f'{_DIR}/{folder}/{Helper.get_domain(url1)}'\n",
    "    os.system(f'mkdir {log_dir}')\n",
    "        \n",
    "    for url2 in sim1:\n",
    "        if not url1 == url2:\n",
    "            comparer.set_parameter(url1, url2)\n",
    "            comparer.enable_logging(f'{log_dir}/')\n",
    "            files.append(comparer.compare_websites())"
   ]
  },
  {
   "cell_type": "markdown",
   "id": "assigned-arctic",
   "metadata": {},
   "source": [
    "#### Same Website"
   ]
  },
  {
   "cell_type": "code",
   "execution_count": null,
   "id": "continental-darkness",
   "metadata": {},
   "outputs": [],
   "source": [
    "folder = 'sim20'"
   ]
  },
  {
   "cell_type": "code",
   "execution_count": null,
   "id": "brave-alarm",
   "metadata": {},
   "outputs": [],
   "source": [
    "comparer = Comparer.Comparer()\n",
    "\n",
    "for url1 in sim20:\n",
    "    log_dir = f'{_DIR}/{folder}/{url1[8:].replace(\"/\", \"_\")}'\n",
    "    os.system(f'mkdir {log_dir}')\n",
    "        \n",
    "    for url2 in sim20:\n",
    "        if not url1 == url2:\n",
    "            comparer.set_parameter(url1, url2)\n",
    "            comparer.enable_logging(f'{log_dir}/')\n",
    "            files.append(comparer.compare_websites())"
   ]
  },
  {
   "cell_type": "code",
   "execution_count": null,
   "id": "alpha-diversity",
   "metadata": {},
   "outputs": [],
   "source": [
    "folder = 'sim21'"
   ]
  },
  {
   "cell_type": "code",
   "execution_count": null,
   "id": "treated-invention",
   "metadata": {},
   "outputs": [],
   "source": [
    "comparer = Comparer.Comparer()\n",
    "\n",
    "for url1 in sim21:\n",
    "    log_dir = f'{_DIR}/{folder}/{url1[8:].replace(\"/\", \"_\")}'\n",
    "    os.system(f'mkdir {log_dir}')\n",
    "        \n",
    "    for url2 in sim21:\n",
    "        if not url1 == url2:\n",
    "            comparer.set_parameter(url1, url2)\n",
    "            comparer.enable_logging(f'{log_dir}/')\n",
    "            files.append(comparer.compare_websites())"
   ]
  }
 ],
 "metadata": {
  "kernelspec": {
   "display_name": "Python 3",
   "language": "python",
   "name": "python3"
  },
  "language_info": {
   "codemirror_mode": {
    "name": "ipython",
    "version": 3
   },
   "file_extension": ".py",
   "mimetype": "text/x-python",
   "name": "python",
   "nbconvert_exporter": "python",
   "pygments_lexer": "ipython3",
   "version": "3.8.5"
  }
 },
 "nbformat": 4,
 "nbformat_minor": 5
}
